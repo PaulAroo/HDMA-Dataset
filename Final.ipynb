{
 "cells": [
  {
   "cell_type": "markdown",
   "id": "0cb3ebba-0d09-4b28-9160-aa0d22681f1a",
   "metadata": {},
   "source": [
    "# <center>Loan Approval Predition -HDMA Data-</center>\n",
    "The Home Mortgage Disclosure Act (HMDA) requires many financial institutions to maintain, report, and publicly disclose information about mortgages. These public data are important because they help show whether lenders are serving the housing needs of their communities; they give public officials information that helps them make decisions and policies; and they shed light on lending patterns that could be discriminatory.\n",
    "\n",
    "> Inside this data set contains 466,566 observations of Washington State home loans - variables include; demographic information, area specific data, loan status, property type, loan type, loan purpose and originating agency. To get more information about -and download- the dataset, click [here](https://www.kaggle.com/miker400/washington-state-home-mortgage-hdma2016)\n",
    "\n",
    "\n",
    "### Goals\n",
    " - Build a Machine learning model to predict whether a loan gets `approved` or `not` based on the various features provided by the dataset\n",
    " \n",
    " \n",
    "The video in the code cell below gives us more insight about the data"
   ]
  },
  {
   "cell_type": "code",
   "execution_count": 1,
   "id": "54dcc8fb-98d9-4b01-9a61-ec2e725534c2",
   "metadata": {},
   "outputs": [
    {
     "data": {
      "image/jpeg": "[encoded data removed]",
      "text/html": [
       "\n",
       "        <iframe\n",
       "            width=\"700\"\n",
       "            height=\"400\"\n",
       "            src=\"https://www.youtube.com/embed/wR9Tsdqgmuk\"\n",
       "            frameborder=\"0\"\n",
       "            allowfullscreen\n",
       "        ></iframe>\n",
       "        "
      ],
      "text/plain": [
       "<IPython.lib.display.YouTubeVideo at 0x26fd090b880>"
      ]
     },
     "execution_count": 1,
     "metadata": {},
     "output_type": "execute_result"
    }
   ],
   "source": [
    "from IPython.display import YouTubeVideo\n",
    "YouTubeVideo('wR9Tsdqgmuk',700,400)"
   ]
  },
  {
   "cell_type": "markdown",
   "id": "750277a7-f717-4935-a4d5-4bead803d203",
   "metadata": {},
   "source": [
    "#### Import and Explore the data"
   ]
  },
  {
   "cell_type": "code",
   "execution_count": 2,
   "id": "98a25c14-4da9-498e-93e3-325c0f48dc8c",
   "metadata": {},
   "outputs": [],
   "source": [
    "import pandas as pd\n",
    "import numpy as np"
   ]
  },
  {
   "cell_type": "code",
   "execution_count": 3,
   "id": "185ea412-a7ef-4a21-8ebb-84e778304a0d",
   "metadata": {},
   "outputs": [
    {
     "name": "stderr",
     "output_type": "stream",
     "text": [
      "C:\\Users\\timmy\\anaconda3\\lib\\site-packages\\IPython\\core\\interactiveshell.py:3165: DtypeWarning: Columns (23,24,25,28,29,30,38,39,40) have mixed types.Specify dtype option on import or set low_memory=False.\n",
      "  has_raised = await self.run_ast_nodes(code_ast.body, cell_name,\n"
     ]
    },
    {
     "data": {
      "text/html": [
       "<div>\n",
       "<style scoped>\n",
       "    .dataframe tbody tr th:only-of-type {\n",
       "        vertical-align: middle;\n",
       "    }\n",
       "\n",
       "    .dataframe tbody tr th {\n",
       "        vertical-align: top;\n",
       "    }\n",
       "\n",
       "    .dataframe thead th {\n",
       "        text-align: right;\n",
       "    }\n",
       "</style>\n",
       "<table border=\"1\" class=\"dataframe\">\n",
       "  <thead>\n",
       "    <tr style=\"text-align: right;\">\n",
       "      <th></th>\n",
       "      <th>tract_to_msamd_income</th>\n",
       "      <th>rate_spread</th>\n",
       "      <th>population</th>\n",
       "      <th>minority_population</th>\n",
       "      <th>number_of_owner_occupied_units</th>\n",
       "      <th>number_of_1_to_4_family_units</th>\n",
       "      <th>loan_amount_000s</th>\n",
       "      <th>hud_median_family_income</th>\n",
       "      <th>applicant_income_000s</th>\n",
       "      <th>state_name</th>\n",
       "      <th>...</th>\n",
       "      <th>applicant_sex_name</th>\n",
       "      <th>applicant_race_name_5</th>\n",
       "      <th>applicant_race_name_4</th>\n",
       "      <th>applicant_race_name_3</th>\n",
       "      <th>applicant_race_name_2</th>\n",
       "      <th>applicant_race_name_1</th>\n",
       "      <th>applicant_ethnicity_name</th>\n",
       "      <th>agency_name</th>\n",
       "      <th>agency_abbr</th>\n",
       "      <th>action_taken_name</th>\n",
       "    </tr>\n",
       "  </thead>\n",
       "  <tbody>\n",
       "    <tr>\n",
       "      <th>0</th>\n",
       "      <td>121.690002</td>\n",
       "      <td>NaN</td>\n",
       "      <td>8381.0</td>\n",
       "      <td>23.790001</td>\n",
       "      <td>2175.0</td>\n",
       "      <td>2660.0</td>\n",
       "      <td>227</td>\n",
       "      <td>73300.0</td>\n",
       "      <td>116.0</td>\n",
       "      <td>Washington</td>\n",
       "      <td>...</td>\n",
       "      <td>Female</td>\n",
       "      <td>NaN</td>\n",
       "      <td>NaN</td>\n",
       "      <td>NaN</td>\n",
       "      <td>NaN</td>\n",
       "      <td>Information not provided by applicant in mail,...</td>\n",
       "      <td>Not Hispanic or Latino</td>\n",
       "      <td>Consumer Financial Protection Bureau</td>\n",
       "      <td>CFPB</td>\n",
       "      <td>Loan originated</td>\n",
       "    </tr>\n",
       "    <tr>\n",
       "      <th>1</th>\n",
       "      <td>83.370003</td>\n",
       "      <td>NaN</td>\n",
       "      <td>4915.0</td>\n",
       "      <td>23.990000</td>\n",
       "      <td>1268.0</td>\n",
       "      <td>1777.0</td>\n",
       "      <td>240</td>\n",
       "      <td>57900.0</td>\n",
       "      <td>42.0</td>\n",
       "      <td>Washington</td>\n",
       "      <td>...</td>\n",
       "      <td>Male</td>\n",
       "      <td>NaN</td>\n",
       "      <td>NaN</td>\n",
       "      <td>NaN</td>\n",
       "      <td>NaN</td>\n",
       "      <td>White</td>\n",
       "      <td>Hispanic or Latino</td>\n",
       "      <td>Department of Housing and Urban Development</td>\n",
       "      <td>HUD</td>\n",
       "      <td>Loan originated</td>\n",
       "    </tr>\n",
       "    <tr>\n",
       "      <th>2</th>\n",
       "      <td>91.129997</td>\n",
       "      <td>NaN</td>\n",
       "      <td>5075.0</td>\n",
       "      <td>11.820000</td>\n",
       "      <td>1136.0</td>\n",
       "      <td>1838.0</td>\n",
       "      <td>241</td>\n",
       "      <td>73300.0</td>\n",
       "      <td>117.0</td>\n",
       "      <td>Washington</td>\n",
       "      <td>...</td>\n",
       "      <td>Male</td>\n",
       "      <td>NaN</td>\n",
       "      <td>NaN</td>\n",
       "      <td>NaN</td>\n",
       "      <td>NaN</td>\n",
       "      <td>White</td>\n",
       "      <td>Not Hispanic or Latino</td>\n",
       "      <td>Department of Housing and Urban Development</td>\n",
       "      <td>HUD</td>\n",
       "      <td>Loan originated</td>\n",
       "    </tr>\n",
       "    <tr>\n",
       "      <th>3</th>\n",
       "      <td>146.169998</td>\n",
       "      <td>NaN</td>\n",
       "      <td>5032.0</td>\n",
       "      <td>8.590000</td>\n",
       "      <td>1525.0</td>\n",
       "      <td>1820.0</td>\n",
       "      <td>351</td>\n",
       "      <td>73300.0</td>\n",
       "      <td>315.0</td>\n",
       "      <td>Washington</td>\n",
       "      <td>...</td>\n",
       "      <td>Male</td>\n",
       "      <td>NaN</td>\n",
       "      <td>NaN</td>\n",
       "      <td>NaN</td>\n",
       "      <td>NaN</td>\n",
       "      <td>Information not provided by applicant in mail,...</td>\n",
       "      <td>Information not provided by applicant in mail,...</td>\n",
       "      <td>National Credit Union Administration</td>\n",
       "      <td>NCUA</td>\n",
       "      <td>Loan originated</td>\n",
       "    </tr>\n",
       "    <tr>\n",
       "      <th>4</th>\n",
       "      <td>162.470001</td>\n",
       "      <td>NaN</td>\n",
       "      <td>5183.0</td>\n",
       "      <td>10.500000</td>\n",
       "      <td>1705.0</td>\n",
       "      <td>2104.0</td>\n",
       "      <td>417</td>\n",
       "      <td>78100.0</td>\n",
       "      <td>114.0</td>\n",
       "      <td>Washington</td>\n",
       "      <td>...</td>\n",
       "      <td>Female</td>\n",
       "      <td>NaN</td>\n",
       "      <td>NaN</td>\n",
       "      <td>NaN</td>\n",
       "      <td>NaN</td>\n",
       "      <td>White</td>\n",
       "      <td>Not Hispanic or Latino</td>\n",
       "      <td>Federal Deposit Insurance Corporation</td>\n",
       "      <td>FDIC</td>\n",
       "      <td>Loan originated</td>\n",
       "    </tr>\n",
       "  </tbody>\n",
       "</table>\n",
       "<p>5 rows × 47 columns</p>\n",
       "</div>"
      ],
      "text/plain": [
       "   tract_to_msamd_income  rate_spread  population  minority_population  \\\n",
       "0             121.690002          NaN      8381.0            23.790001   \n",
       "1              83.370003          NaN      4915.0            23.990000   \n",
       "2              91.129997          NaN      5075.0            11.820000   \n",
       "3             146.169998          NaN      5032.0             8.590000   \n",
       "4             162.470001          NaN      5183.0            10.500000   \n",
       "\n",
       "   number_of_owner_occupied_units  number_of_1_to_4_family_units  \\\n",
       "0                          2175.0                         2660.0   \n",
       "1                          1268.0                         1777.0   \n",
       "2                          1136.0                         1838.0   \n",
       "3                          1525.0                         1820.0   \n",
       "4                          1705.0                         2104.0   \n",
       "\n",
       "   loan_amount_000s  hud_median_family_income  applicant_income_000s  \\\n",
       "0               227                   73300.0                  116.0   \n",
       "1               240                   57900.0                   42.0   \n",
       "2               241                   73300.0                  117.0   \n",
       "3               351                   73300.0                  315.0   \n",
       "4               417                   78100.0                  114.0   \n",
       "\n",
       "   state_name  ... applicant_sex_name  applicant_race_name_5  \\\n",
       "0  Washington  ...             Female                    NaN   \n",
       "1  Washington  ...               Male                    NaN   \n",
       "2  Washington  ...               Male                    NaN   \n",
       "3  Washington  ...               Male                    NaN   \n",
       "4  Washington  ...             Female                    NaN   \n",
       "\n",
       "  applicant_race_name_4 applicant_race_name_3 applicant_race_name_2  \\\n",
       "0                   NaN                   NaN                   NaN   \n",
       "1                   NaN                   NaN                   NaN   \n",
       "2                   NaN                   NaN                   NaN   \n",
       "3                   NaN                   NaN                   NaN   \n",
       "4                   NaN                   NaN                   NaN   \n",
       "\n",
       "                               applicant_race_name_1  \\\n",
       "0  Information not provided by applicant in mail,...   \n",
       "1                                              White   \n",
       "2                                              White   \n",
       "3  Information not provided by applicant in mail,...   \n",
       "4                                              White   \n",
       "\n",
       "                            applicant_ethnicity_name  \\\n",
       "0                             Not Hispanic or Latino   \n",
       "1                                 Hispanic or Latino   \n",
       "2                             Not Hispanic or Latino   \n",
       "3  Information not provided by applicant in mail,...   \n",
       "4                             Not Hispanic or Latino   \n",
       "\n",
       "                                   agency_name agency_abbr action_taken_name  \n",
       "0         Consumer Financial Protection Bureau        CFPB   Loan originated  \n",
       "1  Department of Housing and Urban Development         HUD   Loan originated  \n",
       "2  Department of Housing and Urban Development         HUD   Loan originated  \n",
       "3         National Credit Union Administration        NCUA   Loan originated  \n",
       "4        Federal Deposit Insurance Corporation        FDIC   Loan originated  \n",
       "\n",
       "[5 rows x 47 columns]"
      ]
     },
     "execution_count": 3,
     "metadata": {},
     "output_type": "execute_result"
    }
   ],
   "source": [
    "df = pd.read_csv('Washington_State_HDMA-2016.csv')\n",
    "df.head()"
   ]
  },
  {
   "cell_type": "code",
   "execution_count": 4,
   "id": "7c418126-dfa0-4339-91b6-3eba5a0cab60",
   "metadata": {
    "tags": []
   },
   "outputs": [
    {
     "name": "stdout",
     "output_type": "stream",
     "text": [
      "<class 'pandas.core.frame.DataFrame'>\n",
      "RangeIndex: 466566 entries, 0 to 466565\n",
      "Data columns (total 47 columns):\n",
      " #   Column                          Non-Null Count   Dtype  \n",
      "---  ------                          --------------   -----  \n",
      " 0   tract_to_msamd_income           465951 non-null  float64\n",
      " 1   rate_spread                     8638 non-null    float64\n",
      " 2   population                      465956 non-null  float64\n",
      " 3   minority_population             465956 non-null  float64\n",
      " 4   number_of_owner_occupied_units  465944 non-null  float64\n",
      " 5   number_of_1_to_4_family_units   465955 non-null  float64\n",
      " 6   loan_amount_000s                466566 non-null  int64  \n",
      " 7   hud_median_family_income        465960 non-null  float64\n",
      " 8   applicant_income_000s           404533 non-null  float64\n",
      " 9   state_name                      466566 non-null  object \n",
      " 10  state_abbr                      466566 non-null  object \n",
      " 11  sequence_number                 466566 non-null  int64  \n",
      " 12  respondent_id                   466566 non-null  object \n",
      " 13  purchaser_type_name             466566 non-null  object \n",
      " 14  property_type_name              466566 non-null  object \n",
      " 15  preapproval_name                466566 non-null  object \n",
      " 16  owner_occupancy_name            466566 non-null  object \n",
      " 17  msamd_name                      428292 non-null  object \n",
      " 18  loan_type_name                  466566 non-null  object \n",
      " 19  loan_purpose_name               466566 non-null  object \n",
      " 20  lien_status_name                466566 non-null  object \n",
      " 21  hoepa_status_name               466566 non-null  object \n",
      " 22  edit_status_name                74505 non-null   object \n",
      " 23  denial_reason_name_3            1246 non-null    object \n",
      " 24  denial_reason_name_2            6746 non-null    object \n",
      " 25  denial_reason_name_1            34499 non-null   object \n",
      " 26  county_name                     466199 non-null  object \n",
      " 27  co_applicant_sex_name           466566 non-null  object \n",
      " 28  co_applicant_race_name_5        14 non-null      object \n",
      " 29  co_applicant_race_name_4        21 non-null      object \n",
      " 30  co_applicant_race_name_3        105 non-null     object \n",
      " 31  co_applicant_race_name_2        1862 non-null    object \n",
      " 32  co_applicant_race_name_1        466566 non-null  object \n",
      " 33  co_applicant_ethnicity_name     466566 non-null  object \n",
      " 34  census_tract_number             465960 non-null  float64\n",
      " 35  as_of_year                      466566 non-null  int64  \n",
      " 36  application_date_indicator      466566 non-null  int64  \n",
      " 37  applicant_sex_name              466566 non-null  object \n",
      " 38  applicant_race_name_5           46 non-null      object \n",
      " 39  applicant_race_name_4           68 non-null      object \n",
      " 40  applicant_race_name_3           297 non-null     object \n",
      " 41  applicant_race_name_2           4478 non-null    object \n",
      " 42  applicant_race_name_1           466566 non-null  object \n",
      " 43  applicant_ethnicity_name        466566 non-null  object \n",
      " 44  agency_name                     466566 non-null  object \n",
      " 45  agency_abbr                     466566 non-null  object \n",
      " 46  action_taken_name               466566 non-null  object \n",
      "dtypes: float64(9), int64(4), object(34)\n",
      "memory usage: 167.3+ MB\n"
     ]
    }
   ],
   "source": [
    "df.info()"
   ]
  },
  {
   "cell_type": "markdown",
   "id": "eac52366-9cf6-4d0c-aa39-866d97de2047",
   "metadata": {},
   "source": [
    "A quick overview of the dataset in the code cells above shows:\n",
    "- various columns describing the `loan`, `lender`, `applicant`, `property to be acquired`\n",
    "- there are lots of columns with missing values\n",
    "- there are both numerical and categorical data present in the dataset"
   ]
  },
  {
   "cell_type": "markdown",
   "id": "4d8ea822-b050-4995-99d1-4bd7b4e8bfc1",
   "metadata": {},
   "source": [
    "# <center>Inspect, Decribe and Select Columns</center>\n",
    "In the following code cells, let's try to make sense of the various colums present in the data\n",
    "> This aspect needs a lot of research, so that we can familiarize with the data and then take decisions that would help clean and get the data ready for analysis\n",
    "\n",
    "The column names are descriptive to an extent, but a visit to the [HDMA Glossary](https://www.ffiec.gov/hmda/glossary.htm) is needed so as to understand the meaning of some acronymns(`msamd`,`hoepa`) used."
   ]
  },
  {
   "cell_type": "code",
   "execution_count": 5,
   "id": "91d039a4-fcad-4328-8a0e-75e26b3cd34b",
   "metadata": {},
   "outputs": [
    {
     "data": {
      "text/plain": [
       "array(['Loan originated', 'Application approved but not accepted',\n",
       "       'Application denied by financial institution',\n",
       "       'Application withdrawn by applicant',\n",
       "       'File closed for incompleteness',\n",
       "       'Loan purchased by the institution',\n",
       "       'Preapproval request denied by financial institution',\n",
       "       'Preapproval request approved but not accepted'], dtype=object)"
      ]
     },
     "execution_count": 5,
     "metadata": {},
     "output_type": "execute_result"
    }
   ],
   "source": [
    "# inspect the target_column\n",
    "df['action_taken_name'].unique()"
   ]
  },
  {
   "cell_type": "markdown",
   "id": "4ec0affa-7d07-4511-a862-26c9bb2ec12c",
   "metadata": {},
   "source": [
    "`Loan originated` is a widely used term in finance , it means the loan application has been approved. We will remove the rows where the applicant has` withdrawn the request for loan`. Loan purchased means that the lender bought the loan on a secondary market.\n",
    "\n",
    "**What is a secondary market ?**\n",
    "\n",
    ">It happens quite often that after lending the loan , the lender sells the loan and servicing rights to an investor in the secondary market.You might be thinking what is the need of a secondary market.\n",
    "\n",
    ">When a person takes out a home loan, the loan is underwritten, funded and serviced by a bank. Because the bank has used their own funds to make the loan, they will eventually run out of money to loan, so they will sell the loan to the secondary market to replenish their money available to make more home loans.\n",
    "\n",
    "Since our analysis only concerns the primary market where borrowers and lenders are involved:\n",
    "- remove the rows where the `applicant has withdrawn the request for loan`.\n",
    "- remove the rows where the action taken is `\"Loan purchased by financial institution\"`."
   ]
  },
  {
   "cell_type": "code",
   "execution_count": 6,
   "id": "6f8c262f-622a-45b7-8476-f8869d0d672f",
   "metadata": {},
   "outputs": [],
   "source": [
    "df=df[df['action_taken_name']!='Application withdrawn by applicant']\n",
    "df=df[df['action_taken_name']!='Loan purchased by the institution']"
   ]
  },
  {
   "cell_type": "markdown",
   "id": "14e36aa4-a4db-4977-a4e4-de7f844f517b",
   "metadata": {},
   "source": [
    "After 'indepth' research, the following columns(shown in the following code cell) were selected based on:\n",
    "- their relevance to the present analysis\n",
    "- the number of `non-null` values present"
   ]
  },
  {
   "cell_type": "code",
   "execution_count": 7,
   "id": "f0385b4a-625a-482d-bd6f-b01439b4bb6e",
   "metadata": {},
   "outputs": [],
   "source": [
    "columns_to_use = ['loan_amount_000s', 'applicant_income_000s', 'purchaser_type_name', 'property_type_name', 'owner_occupancy_name', 'msamd_name','loan_type_name','loan_purpose_name','lien_status_name','hoepa_status_name','county_name','co_applicant_sex_name','applicant_sex_name','applicant_race_name_1','agency_name','action_taken_name']"
   ]
  },
  {
   "cell_type": "code",
   "execution_count": 8,
   "id": "9274542a-6dd5-40a6-825d-4b621636738f",
   "metadata": {},
   "outputs": [
    {
     "data": {
      "text/plain": [
       "(357852, 16)"
      ]
     },
     "execution_count": 8,
     "metadata": {},
     "output_type": "execute_result"
    }
   ],
   "source": [
    "df_new = df[columns_to_use]\n",
    "df_new.shape"
   ]
  },
  {
   "cell_type": "code",
   "execution_count": 9,
   "id": "2862c97e-3c70-4303-9286-fee236831994",
   "metadata": {},
   "outputs": [
    {
     "data": {
      "text/plain": [
       "loan_amount_000s             0\n",
       "applicant_income_000s    31380\n",
       "purchaser_type_name          0\n",
       "property_type_name           0\n",
       "owner_occupancy_name         0\n",
       "msamd_name               29128\n",
       "loan_type_name               0\n",
       "loan_purpose_name            0\n",
       "lien_status_name             0\n",
       "hoepa_status_name            0\n",
       "county_name                209\n",
       "co_applicant_sex_name        0\n",
       "applicant_sex_name           0\n",
       "applicant_race_name_1        0\n",
       "agency_name                  0\n",
       "action_taken_name            0\n",
       "dtype: int64"
      ]
     },
     "execution_count": 9,
     "metadata": {},
     "output_type": "execute_result"
    }
   ],
   "source": [
    "df_new.isnull().sum()"
   ]
  },
  {
   "cell_type": "code",
   "execution_count": 10,
   "id": "54c56980-dbd6-4b2e-95b5-f3ab335f85e8",
   "metadata": {
    "tags": []
   },
   "outputs": [
    {
     "data": {
      "text/plain": [
       "loan_amount_000s         0\n",
       "applicant_income_000s    0\n",
       "purchaser_type_name      0\n",
       "property_type_name       0\n",
       "owner_occupancy_name     0\n",
       "msamd_name               0\n",
       "loan_type_name           0\n",
       "loan_purpose_name        0\n",
       "lien_status_name         0\n",
       "hoepa_status_name        0\n",
       "county_name              0\n",
       "co_applicant_sex_name    0\n",
       "applicant_sex_name       0\n",
       "applicant_race_name_1    0\n",
       "agency_name              0\n",
       "action_taken_name        0\n",
       "dtype: int64"
      ]
     },
     "execution_count": 10,
     "metadata": {},
     "output_type": "execute_result"
    }
   ],
   "source": [
    "#remove rows where there are missing values in applicant_income_000s\n",
    "df_clean = df_new.dropna(subset=['applicant_income_000s', 'msamd_name'])\n",
    "df_clean.isnull().sum()"
   ]
  },
  {
   "cell_type": "code",
   "execution_count": 11,
   "id": "70b3f8c2-9b02-4a2e-abc1-d21e666e27e5",
   "metadata": {},
   "outputs": [
    {
     "name": "stdout",
     "output_type": "stream",
     "text": [
      "<class 'pandas.core.frame.DataFrame'>\n",
      "Int64Index: 300187 entries, 0 to 466565\n",
      "Data columns (total 16 columns):\n",
      " #   Column                 Non-Null Count   Dtype  \n",
      "---  ------                 --------------   -----  \n",
      " 0   loan_amount_000s       300187 non-null  int64  \n",
      " 1   applicant_income_000s  300187 non-null  float64\n",
      " 2   purchaser_type_name    300187 non-null  object \n",
      " 3   property_type_name     300187 non-null  object \n",
      " 4   owner_occupancy_name   300187 non-null  object \n",
      " 5   msamd_name             300187 non-null  object \n",
      " 6   loan_type_name         300187 non-null  object \n",
      " 7   loan_purpose_name      300187 non-null  object \n",
      " 8   lien_status_name       300187 non-null  object \n",
      " 9   hoepa_status_name      300187 non-null  object \n",
      " 10  county_name            300187 non-null  object \n",
      " 11  co_applicant_sex_name  300187 non-null  object \n",
      " 12  applicant_sex_name     300187 non-null  object \n",
      " 13  applicant_race_name_1  300187 non-null  object \n",
      " 14  agency_name            300187 non-null  object \n",
      " 15  action_taken_name      300187 non-null  object \n",
      "dtypes: float64(1), int64(1), object(14)\n",
      "memory usage: 38.9+ MB\n"
     ]
    }
   ],
   "source": [
    "df_clean.info()"
   ]
  },
  {
   "cell_type": "markdown",
   "id": "c27c30bd-2460-4c55-bf7f-7232a04e24eb",
   "metadata": {},
   "source": [
    "- categorize `loan_amount` column into `small, medium and large`\n",
    "- categorize `applicant_income_000s` column into `low, medium and high`\n",
    "- make `action_taken_name` column of 2 categories (approved, not_approved)"
   ]
  },
  {
   "cell_type": "code",
   "execution_count": 12,
   "id": "9a647d98-d705-42ee-8438-11ed1f1ec7b5",
   "metadata": {},
   "outputs": [
    {
     "data": {
      "text/html": [
       "<div>\n",
       "<style scoped>\n",
       "    .dataframe tbody tr th:only-of-type {\n",
       "        vertical-align: middle;\n",
       "    }\n",
       "\n",
       "    .dataframe tbody tr th {\n",
       "        vertical-align: top;\n",
       "    }\n",
       "\n",
       "    .dataframe thead th {\n",
       "        text-align: right;\n",
       "    }\n",
       "</style>\n",
       "<table border=\"1\" class=\"dataframe\">\n",
       "  <thead>\n",
       "    <tr style=\"text-align: right;\">\n",
       "      <th></th>\n",
       "      <th>loan_amount_000s</th>\n",
       "      <th>applicant_income_000s</th>\n",
       "    </tr>\n",
       "  </thead>\n",
       "  <tbody>\n",
       "    <tr>\n",
       "      <th>count</th>\n",
       "      <td>357852.000000</td>\n",
       "      <td>326472.000000</td>\n",
       "    </tr>\n",
       "    <tr>\n",
       "      <th>mean</th>\n",
       "      <td>299.300135</td>\n",
       "      <td>112.945842</td>\n",
       "    </tr>\n",
       "    <tr>\n",
       "      <th>std</th>\n",
       "      <td>756.522512</td>\n",
       "      <td>124.632423</td>\n",
       "    </tr>\n",
       "    <tr>\n",
       "      <th>min</th>\n",
       "      <td>1.000000</td>\n",
       "      <td>1.000000</td>\n",
       "    </tr>\n",
       "    <tr>\n",
       "      <th>25%</th>\n",
       "      <td>170.000000</td>\n",
       "      <td>60.000000</td>\n",
       "    </tr>\n",
       "    <tr>\n",
       "      <th>50%</th>\n",
       "      <td>247.000000</td>\n",
       "      <td>89.000000</td>\n",
       "    </tr>\n",
       "    <tr>\n",
       "      <th>75%</th>\n",
       "      <td>350.000000</td>\n",
       "      <td>134.000000</td>\n",
       "    </tr>\n",
       "    <tr>\n",
       "      <th>max</th>\n",
       "      <td>99999.000000</td>\n",
       "      <td>9999.000000</td>\n",
       "    </tr>\n",
       "  </tbody>\n",
       "</table>\n",
       "</div>"
      ],
      "text/plain": [
       "       loan_amount_000s  applicant_income_000s\n",
       "count     357852.000000          326472.000000\n",
       "mean         299.300135             112.945842\n",
       "std          756.522512             124.632423\n",
       "min            1.000000               1.000000\n",
       "25%          170.000000              60.000000\n",
       "50%          247.000000              89.000000\n",
       "75%          350.000000             134.000000\n",
       "max        99999.000000            9999.000000"
      ]
     },
     "execution_count": 12,
     "metadata": {},
     "output_type": "execute_result"
    }
   ],
   "source": [
    "# take a closer look at the numerical columns so as select intervals to categorize with\n",
    "df_new.describe()"
   ]
  },
  {
   "cell_type": "code",
   "execution_count": 13,
   "id": "2fc16896-a6c0-4143-8fa9-f55d9db759bd",
   "metadata": {},
   "outputs": [
    {
     "name": "stderr",
     "output_type": "stream",
     "text": [
      "<ipython-input-13-93dbd624b46c>:1: SettingWithCopyWarning: \n",
      "A value is trying to be set on a copy of a slice from a DataFrame.\n",
      "Try using .loc[row_indexer,col_indexer] = value instead\n",
      "\n",
      "See the caveats in the documentation: https://pandas.pydata.org/pandas-docs/stable/user_guide/indexing.html#returning-a-view-versus-a-copy\n",
      "  df_clean['applicant_income_range'] = pd.cut(df_clean['applicant_income_000s'],bins=[0,100,200,9999],labels=['low', 'medium','high'])\n"
     ]
    },
    {
     "data": {
      "text/plain": [
       "low       170978\n",
       "medium    100571\n",
       "high       28638\n",
       "Name: applicant_income_range, dtype: int64"
      ]
     },
     "execution_count": 13,
     "metadata": {},
     "output_type": "execute_result"
    }
   ],
   "source": [
    "df_clean['applicant_income_range'] = pd.cut(df_clean['applicant_income_000s'],bins=[0,100,200,9999],labels=['low', 'medium','high'])\n",
    "df_clean['applicant_income_range'].value_counts()"
   ]
  },
  {
   "cell_type": "code",
   "execution_count": 14,
   "id": "7000f97c-b949-450a-916a-3ecb879ebe2f",
   "metadata": {},
   "outputs": [
    {
     "name": "stderr",
     "output_type": "stream",
     "text": [
      "<ipython-input-14-4f9573bc4b42>:1: SettingWithCopyWarning: \n",
      "A value is trying to be set on a copy of a slice from a DataFrame.\n",
      "Try using .loc[row_indexer,col_indexer] = value instead\n",
      "\n",
      "See the caveats in the documentation: https://pandas.pydata.org/pandas-docs/stable/user_guide/indexing.html#returning-a-view-versus-a-copy\n",
      "  df_clean['loan_amount_range'] = pd.cut(df_clean.loan_amount_000s,bins=[0,100,200,99999],labels=['small', 'medium','large'])\n"
     ]
    },
    {
     "data": {
      "text/plain": [
       "large     201701\n",
       "medium     73092\n",
       "small      25394\n",
       "Name: loan_amount_range, dtype: int64"
      ]
     },
     "execution_count": 14,
     "metadata": {},
     "output_type": "execute_result"
    }
   ],
   "source": [
    "df_clean['loan_amount_range'] = pd.cut(df_clean.loan_amount_000s,bins=[0,100,200,99999],labels=['small', 'medium','large'])\n",
    "df_clean['loan_amount_range'].value_counts()"
   ]
  },
  {
   "cell_type": "markdown",
   "id": "d6484eeb-860e-4ecf-b2a2-e251c6aee204",
   "metadata": {},
   "source": [
    "### make `action_taken_name` column of 2 categories (approved, not_approved)"
   ]
  },
  {
   "cell_type": "code",
   "execution_count": 15,
   "id": "2a01e11f-51b6-40a2-89a2-9d4bb2b14656",
   "metadata": {},
   "outputs": [
    {
     "data": {
      "text/plain": [
       "array(['Loan originated', 'Application approved but not accepted',\n",
       "       'Application denied by financial institution',\n",
       "       'File closed for incompleteness',\n",
       "       'Preapproval request approved but not accepted',\n",
       "       'Preapproval request denied by financial institution'],\n",
       "      dtype=object)"
      ]
     },
     "execution_count": 15,
     "metadata": {},
     "output_type": "execute_result"
    }
   ],
   "source": [
    "df_clean['action_taken_name'].unique()"
   ]
  },
  {
   "cell_type": "code",
   "execution_count": 16,
   "id": "8c19c00b-d264-4d51-ac6a-77646b205279",
   "metadata": {},
   "outputs": [
    {
     "name": "stderr",
     "output_type": "stream",
     "text": [
      "C:\\Users\\timmy\\anaconda3\\lib\\site-packages\\pandas\\core\\indexing.py:1720: SettingWithCopyWarning: \n",
      "A value is trying to be set on a copy of a slice from a DataFrame.\n",
      "Try using .loc[row_indexer,col_indexer] = value instead\n",
      "\n",
      "See the caveats in the documentation: https://pandas.pydata.org/pandas-docs/stable/user_guide/indexing.html#returning-a-view-versus-a-copy\n",
      "  self._setitem_single_column(loc, value, pi)\n"
     ]
    },
    {
     "data": {
      "text/plain": [
       "array(['approved', 'not approved'], dtype=object)"
      ]
     },
     "execution_count": 16,
     "metadata": {},
     "output_type": "execute_result"
    }
   ],
   "source": [
    "df_clean.loc[df_clean['action_taken_name']=='Loan originated','action_taken_name'] = 'approved'\n",
    "\n",
    "fix = df_clean['action_taken_name'].unique()[1:]\n",
    "for col in fix:\n",
    "    df_clean.loc[df_clean['action_taken_name']==col,'action_taken_name'] = 'not approved'\n",
    "    \n",
    "    \n",
    "df_clean['action_taken_name'].unique()"
   ]
  },
  {
   "cell_type": "code",
   "execution_count": 17,
   "id": "f92ec19d-384b-4c07-bf7d-1e2a56e45ee3",
   "metadata": {},
   "outputs": [
    {
     "data": {
      "text/plain": [
       "purchaser_type_name       0\n",
       "property_type_name        0\n",
       "owner_occupancy_name      0\n",
       "msamd_name                0\n",
       "loan_type_name            0\n",
       "loan_purpose_name         0\n",
       "lien_status_name          0\n",
       "hoepa_status_name         0\n",
       "county_name               0\n",
       "co_applicant_sex_name     0\n",
       "applicant_sex_name        0\n",
       "applicant_race_name_1     0\n",
       "agency_name               0\n",
       "action_taken_name         0\n",
       "applicant_income_range    0\n",
       "loan_amount_range         0\n",
       "dtype: int64"
      ]
     },
     "execution_count": 17,
     "metadata": {},
     "output_type": "execute_result"
    }
   ],
   "source": [
    "df_clean = df_clean.drop(['loan_amount_000s', 'applicant_income_000s'], axis=1)\n",
    "df_clean.isnull().sum()"
   ]
  },
  {
   "cell_type": "code",
   "execution_count": 18,
   "id": "7244024d-72aa-4f79-9ce3-973fd6f43573",
   "metadata": {},
   "outputs": [
    {
     "data": {
      "text/plain": [
       "{'purchaser_type_name': 10,\n",
       " 'property_type_name': 2,\n",
       " 'owner_occupancy_name': 3,\n",
       " 'msamd_name': 14,\n",
       " 'loan_type_name': 4,\n",
       " 'loan_purpose_name': 3,\n",
       " 'lien_status_name': 3,\n",
       " 'hoepa_status_name': 2,\n",
       " 'county_name': 21,\n",
       " 'co_applicant_sex_name': 5,\n",
       " 'applicant_sex_name': 4,\n",
       " 'applicant_race_name_1': 7,\n",
       " 'agency_name': 6,\n",
       " 'action_taken_name': 2,\n",
       " 'applicant_income_range': 3,\n",
       " 'loan_amount_range': 3}"
      ]
     },
     "execution_count": 18,
     "metadata": {},
     "output_type": "execute_result"
    }
   ],
   "source": [
    "# display each columns and the number of categories present in it\n",
    "no_uniq_vals = {}\n",
    "for col in df_clean.columns:\n",
    "    no_uniq_vals[col] = len(df_clean[col].unique())\n",
    "    \n",
    "no_uniq_vals"
   ]
  },
  {
   "cell_type": "markdown",
   "id": "ae7dbada-bc1d-42b2-b7c7-93d98925601a",
   "metadata": {},
   "source": [
    "## <center>Engineer Features and Build Model</center>\n",
    "In the following code cells:\n",
    "- the dataset is split into train and test sets (ratio 75:25)\n",
    "- the labels(features/inputs) columns are encoded using the `sklearn ordinal encoder`\n",
    "- the target column is encoded using the `sklearn label encoder`\n",
    "- the model(classification) is trained on the RandonForest ensemble algorithm\n",
    "- the f1 score is used to measure it's accuracy"
   ]
  },
  {
   "cell_type": "code",
   "execution_count": 19,
   "id": "0a6a127d-55fb-4863-b2ef-07cee3ad9fb2",
   "metadata": {},
   "outputs": [],
   "source": [
    "feature_cols = [col for col in df_clean.columns if col!='action_taken_name']\n",
    "x = df_clean[feature_cols]\n",
    "y = df_clean['action_taken_name']"
   ]
  },
  {
   "cell_type": "code",
   "execution_count": 20,
   "id": "fff10834-a35e-4578-9172-7356ab926dfc",
   "metadata": {},
   "outputs": [
    {
     "name": "stdout",
     "output_type": "stream",
     "text": [
      "Train (225140, 15) (225140,)\n",
      "Test (75047, 15) (75047,)\n"
     ]
    }
   ],
   "source": [
    "from sklearn.model_selection import train_test_split\n",
    "from sklearn.preprocessing import LabelEncoder\n",
    "from sklearn.preprocessing import OrdinalEncoder\n",
    "\n",
    "X_train, X_test, y_train, y_test = train_test_split(x, y, test_size=0.25, random_state=1)\n",
    "print('Train', X_train.shape, y_train.shape)\n",
    "print('Test', X_test.shape, y_test.shape)"
   ]
  },
  {
   "cell_type": "code",
   "execution_count": 21,
   "id": "3863fe99-c011-4342-a801-2dfd2c75d912",
   "metadata": {},
   "outputs": [],
   "source": [
    "def prepare_inputs(X_train, X_test):\n",
    "    oe = OrdinalEncoder()\n",
    "    oe.fit(X_train)\n",
    "    X_train_enc = oe.transform(X_train)\n",
    "    X_test_enc = oe.transform(X_test)\n",
    "    return X_train_enc, X_test_enc\n",
    "\n",
    "\n",
    "def prepare_targets(y_train, y_test):\n",
    "    le = LabelEncoder()\n",
    "    le.fit(y_train)\n",
    "    y_train_enc = le.transform(y_train)\n",
    "    y_test_enc = le.transform(y_test)\n",
    "    return y_train_enc, y_test_enc"
   ]
  },
  {
   "cell_type": "code",
   "execution_count": 22,
   "id": "283a96f6-cc11-443f-b6c1-9c03f316a2b2",
   "metadata": {},
   "outputs": [],
   "source": [
    "# prepare input data\n",
    "X_train_enc, X_test_enc = prepare_inputs(X_train, X_test)\n",
    "# prepare output data\n",
    "y_train_enc, y_test_enc = prepare_targets(y_train, y_test)"
   ]
  },
  {
   "cell_type": "code",
   "execution_count": 24,
   "id": "e9fd1804-b10a-41d6-807e-b7146cb7002e",
   "metadata": {},
   "outputs": [
    {
     "name": "stdout",
     "output_type": "stream",
     "text": [
      "Model Accuracy%:  78.6988837956129\n"
     ]
    }
   ],
   "source": [
    "from sklearn.ensemble import RandomForestClassifier\n",
    "from sklearn.metrics import f1_score\n",
    "\n",
    "rf = RandomForestClassifier(random_state=1)\n",
    "rf.fit(X_train_enc, y_train_enc)\n",
    "\n",
    "prediction = rf.predict(X_test_enc)\n",
    "print('Model Accuracy%: ',f1_score(y_test_enc, prediction)*100)"
   ]
  },
  {
   "cell_type": "markdown",
   "id": "e2c0450c-aa29-4db2-8056-ebfa4d0fdb00",
   "metadata": {},
   "source": [
    "# References\n",
    "Below are some useful links that guided some of my decisions through the course of the analysis\n",
    "\n",
    "- [HDMA Glossary](https://www.ffiec.gov/hmda/glossary.htm)\n",
    "- [which ML model to use?](https://towardsdatascience.com/which-machine-learning-model-to-use-db5fdf37f3dd)\n",
    "- [perform feature selection with categorical data](https://machinelearningmastery.com/feature-selection-with-categorical-data/)"
   ]
  }
 ],
 "metadata": {
  "kernelspec": {
   "display_name": "Python 3",
   "language": "python",
   "name": "python3"
  },
  "language_info": {
   "codemirror_mode": {
    "name": "ipython",
    "version": 3
   },
   "file_extension": ".py",
   "mimetype": "text/x-python",
   "name": "python",
   "nbconvert_exporter": "python",
   "pygments_lexer": "ipython3",
   "version": "3.8.8"
  }
 },
 "nbformat": 4,
 "nbformat_minor": 5
}
